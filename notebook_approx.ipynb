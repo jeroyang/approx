{
 "cells": [
  {
   "cell_type": "code",
   "execution_count": null,
   "metadata": {
    "collapsed": false
   },
   "outputs": [
    {
     "name": "stdout",
     "output_type": "stream",
     "text": [
      "====================\n",
      "第 1 關 (容許誤差：0)\n",
      "====================\n",
      "從 0 到 100 猜一個數字：50\n",
      "太少了，再多一點！\n",
      "從 0 到 100 猜一個數字：75\n",
      "太少了，再多一點！\n"
     ]
    }
   ],
   "source": [
    "from approx import approx\n",
    "game = approx.ApproxGame()\n",
    "game.run(1)\n"
   ]
  },
  {
   "cell_type": "code",
   "execution_count": 1,
   "metadata": {
    "collapsed": true
   },
   "outputs": [],
   "source": [
    "from itertools import product"
   ]
  },
  {
   "cell_type": "code",
   "execution_count": 8,
   "metadata": {
    "collapsed": false
   },
   "outputs": [
    {
     "name": "stdout",
     "output_type": "stream",
     "text": [
      "('add', 10, 0, 4)\n",
      "('add', 10, 0, 5)\n",
      "('add', 10, 1, 4)\n",
      "('add', 10, 1, 5)\n",
      "('add', 10, 2, 4)\n",
      "('add', 10, 2, 5)\n"
     ]
    }
   ],
   "source": [
    "args = ['add', 10, range(3), range(4, 6)]\n",
    "new_args = []\n",
    "for arg in args:\n",
    "    if not isinstance(arg, range):\n",
    "        new_args.append([arg])\n",
    "    else:\n",
    "        new_args.append(arg)\n",
    "        \n",
    "for arg_tuple in product(*new_args):\n",
    "    print(arg_tuple)"
   ]
  },
  {
   "cell_type": "code",
   "execution_count": null,
   "metadata": {
    "collapsed": true
   },
   "outputs": [],
   "source": []
  }
 ],
 "metadata": {
  "kernelspec": {
   "display_name": "Python 3",
   "language": "python",
   "name": "python3"
  },
  "language_info": {
   "codemirror_mode": {
    "name": "ipython",
    "version": 3
   },
   "file_extension": ".py",
   "mimetype": "text/x-python",
   "name": "python",
   "nbconvert_exporter": "python",
   "pygments_lexer": "ipython3",
   "version": "3.5.0"
  }
 },
 "nbformat": 4,
 "nbformat_minor": 0
}
