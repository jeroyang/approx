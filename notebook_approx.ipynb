{
 "cells": [
  {
   "cell_type": "code",
   "execution_count": 5,
   "metadata": {
    "collapsed": false
   },
   "outputs": [],
   "source": [
    "#!/usr/bin/env python\n",
    "# -*- coding: utf-8 -*-\n",
    "\n",
    "from __future__ import (absolute_import, division,\n",
    "                        print_function, unicode_literals)\n",
    "from builtins import *\n",
    "import json\n",
    "import sys\n",
    "from random import choice\n",
    "\n",
    "def direct_print(text):\n",
    "    print(text, flush=True)\n",
    "    \n",
    "def question_guess(number, lower_bound, upper_bound):\n",
    "    template = '從 {} 到 {} 猜一個數字 '\n",
    "    question = template.format(lower_bound, upper_bound)\n",
    "    answer = number\n",
    "    return (question, answer)\n",
    "\n",
    "def question_add(arg1, arg2):\n",
    "    template = '{0} + {1} = '\n",
    "    question = template.format(arg1, arg2)\n",
    "    answer = arg1 + arg2\n",
    "    return (question, answer)\n",
    "\n",
    "def question_sub(arg1, wanted_answer):\n",
    "    template = '{0} - {1} = '\n",
    "    question = template.format(arg1 + wanted_answer, arg1)\n",
    "    answer = wanted_answer\n",
    "    return (question, answer)\n",
    "\n",
    "def question_multiply(arg1, arg2):\n",
    "    template = '{0} × {1} = '\n",
    "    question = template.format(arg1, arg2)\n",
    "    answer = arg1 * arg2\n",
    "    return (question, answer)\n",
    "\n",
    "def question_divide(arg1, wanted_answer):\n",
    "    template = '{0} ÷ {1} = '\n",
    "    question = template.format(arg1*wanted_answer, arg1)\n",
    "    answer = wanted_answer\n",
    "    return (question, answer)\n",
    "\n",
    "def is_correct(users_answer, answer, precision):\n",
    "    delta = abs(users_answer - answer)\n",
    "    \n",
    "    return delta <= precision\n",
    "\n",
    "def new_level_greet(level_id):\n",
    "    return '=======\\n第 {} 關\\n======='.format(level_id)\n",
    "\n",
    "def correct_greet(answer, users_answer):\n",
    "    if answer == users_answer:\n",
    "        greet = '太棒了，答案就是 {}.'.format(answer)\n",
    "    else:\n",
    "        greet = '算你答對!! 正確答案是 {}'.format(answer)\n",
    "    return greet\n",
    "\n",
    "def too_high_hint():\n",
    "    return '太多了，再少一點！'\n",
    "\n",
    "def too_low_hint():\n",
    "    return '太少了，再多一點！'\n",
    "    \n",
    "RECIPE_MAP = {\n",
    "    'guess': question_guess,\n",
    "    'add': question_add,\n",
    "    'sub': question_sub,\n",
    "    'multiply': question_multiply,\n",
    "    'division': question_divide,\n",
    "}\n",
    "\n",
    "QUESTION_RANGE_MAP = {\n",
    "    'd1': range(0, 10),\n",
    "    'd2': range(1, 100),\n",
    "    'd3': range(10, 1000),\n",
    "}\n",
    "\n",
    "ANSWER_FILTER_MAP = {\n",
    "    'all_pass': lambda n: True,\n",
    "}\n",
    "\n",
    "def generate_number(range_key):\n",
    "    real_range = QUESTION_RANGE_MAP.get(range_key, None)\n",
    "    if real_range is None:\n",
    "        return int(range_key)\n",
    "    else:\n",
    "        return choice(real_range) \n",
    "\n",
    "def generate_question(question_recipe, var_tup, a_range, *args):\n",
    "    \"\"\"\n",
    "    The question_recipe are function names in the RECIPE_MAP,\n",
    "\n",
    "    \"\"\"\n",
    "    question_fucntion = RECIPE_MAP[question_recipe]\n",
    "    is_valid = ANSWER_FILTER_MAP[a_range]\n",
    "    function_args = [generate_number(var) for var in var_tup]\n",
    "    for i in range(10):\n",
    "        question, answer = question_fucntion(*function_args)\n",
    "        if is_valid(answer):\n",
    "            break\n",
    "    else:\n",
    "        raise ValueError('The recipe setting may be wrong.')\n",
    "\n",
    "    return question, answer\n",
    "\n",
    "def play_question(question, answer, precision, print_method):\n",
    "    while True:\n",
    "        users_response = input(question)\n",
    "        try:\n",
    "            users_answer = float(users_response)\n",
    "        except:\n",
    "            return False \n",
    "        \n",
    "        if is_correct(users_answer, answer, precision):\n",
    "            print_method(correct_greet(answer, users_answer))\n",
    "            return True\n",
    "        \n",
    "        elif users_answer > answer:\n",
    "            print_method(too_high_hint())\n",
    "        else: #users_answer < answer\n",
    "            print_method(too_low_hint())\n",
    "\n",
    "class ApproxGame(object):\n",
    "    \"\"\"\n",
    "    Game for mental mathmatics in approximate numbers\n",
    "    \"\"\"\n",
    "    def __init__(self):\n",
    "        levels = {\n",
    "        # id, recipe, var_tup, answer_range, precision, next level\n",
    "        1: ('guess', ('d2', 0, 99), 'all_pass', 0, 2), \n",
    "        2: ('add', ('d1', 'd1'), 'all_pass', 0, 3),\n",
    "        3: ('sub', ('d1', 'd1'), 'all_pass', 0, 4),\n",
    "        4: ('add', ('d2', 'd1'), 'all_pass', 1, 5),\n",
    "        5: ('sub', ('d2', 'd2'), 'all_pass', 1, 6),\n",
    "        6: ('multiply', ('d1', 'd1'), 'all_pass', 0, 7),\n",
    "        7: ('multiply', ('d2', 'd1'), 'all_pass', 10, 8),\n",
    "        8: ('multiply', ('d3', 'd1'), 'all_pass', 20, 9),\n",
    "        9: ('multiply', ('d2', 'd2'), 'all_pass', 100, 100),\n",
    "        100: ('guess', ('d3', 0, 1000), 'all_pass', 0, 100),\n",
    "        }\n",
    "\n",
    "        self._levels = levels\n",
    "        \n",
    "    def play_level(self, level_id, print_method):\n",
    "        level = self._levels[level_id]\n",
    "        precision = level[3]\n",
    "        next_level = level[4]\n",
    "        print_method(new_level_greet(level_id))\n",
    "        counter = 0\n",
    "        while counter < 2:\n",
    "            question, answer = generate_question(*level)\n",
    "            correctness = play_question(question, answer, \n",
    "                                        precision, direct_print)\n",
    "            if correctness:\n",
    "                counter += 1\n",
    "            else:\n",
    "                return None\n",
    "        else: \n",
    "            return next_level\n",
    "    \n",
    "    def run(self):\n",
    "        level_id = 1\n",
    "        while True:\n",
    "            level_id = self.play_level(level_id, direct_print)\n",
    "            if level_id is None:\n",
    "                direct_print('=======\\n遊戲結束\\n=======')\n",
    "                break\n",
    "\n",
    "                \n",
    "if __name__ == '__main__':\n",
    "    game = ApproxGame()\n",
    "    game.run()"
   ]
  },
  {
   "cell_type": "code",
   "execution_count": 1,
   "metadata": {
    "collapsed": false
   },
   "outputs": [
    {
     "name": "stdout",
     "output_type": "stream",
     "text": [
      "=======\n",
      "第 1 關\n",
      "=======\n",
      "從 0 到 99 猜一個數字：50\n",
      "太少了，再多一點！\n",
      "從 0 到 99 猜一個數字：75\n",
      "太少了，再多一點！\n",
      "從 0 到 99 猜一個數字：90\n",
      "太多了，再少一點！\n",
      "從 0 到 99 猜一個數字：80\n",
      "太少了，再多一點！\n",
      "從 0 到 99 猜一個數字：85\n",
      "太多了，再少一點！\n",
      "從 0 到 99 猜一個數字：83\n",
      "太多了，再少一點！\n",
      "從 0 到 99 猜一個數字：82\n",
      "太棒了，答案就是 82！\n",
      "從 0 到 99 猜一個數字：50\n",
      "太少了，再多一點！\n",
      "從 0 到 99 猜一個數字：78\n",
      "太多了，再少一點！\n",
      "從 0 到 99 猜一個數字：65\n",
      "太多了，再少一點！\n",
      "從 0 到 99 猜一個數字：60\n",
      "太少了，再多一點！\n",
      "從 0 到 99 猜一個數字：63\n",
      "太少了，再多一點！\n",
      "從 0 到 99 猜一個數字：64\n",
      "太棒了，答案就是 64！\n",
      "=======\n",
      "第 2 關\n",
      "=======\n",
      "2 + 2 = 4\n",
      "太棒了，答案就是 4！\n",
      "6 + 8 = 14\n",
      "太棒了，答案就是 14！\n",
      "=======\n",
      "第 3 關\n",
      "=======\n",
      "12 - 9 = 3\n",
      "太棒了，答案就是 3！\n",
      "10 - 2 = 8\n",
      "太棒了，答案就是 8！\n",
      "=======\n",
      "第 4 關\n",
      "=======\n",
      "35 + 7 = 42\n",
      "太棒了，答案就是 42！\n",
      "7 + 3 = 10\n",
      "太棒了，答案就是 10！\n",
      "=======\n",
      "第 5 關\n",
      "=======\n",
      "86 - 85 = 1\n",
      "太棒了，答案就是 1！\n",
      "69 - 21 = 47\n",
      "算你答對，正確答案是 48！\n",
      "=======\n",
      "第 6 關\n",
      "=======\n",
      "7 × 1 = 7\n",
      "太棒了，答案就是 7！\n",
      "8 × 5 = 50\n",
      "太多了，再少一點！\n",
      "8 × 5 = 40\n",
      "太棒了，答案就是 40！\n",
      "=======\n",
      "第 7 關\n",
      "=======\n",
      "5 × 1 = 5\n",
      "太棒了，答案就是 5！\n",
      "78 × 9 = 68\n",
      "太少了，再多一點！\n",
      "78 × 9 = 70\n",
      "太少了，再多一點！\n",
      "78 × 9 = 710\n",
      "算你答對，正確答案是 702！\n",
      "=======\n",
      "第 8 關\n",
      "=======\n",
      "463 × 1 = 463\n",
      "太棒了，答案就是 463！\n",
      "77 × 0 = 0\n",
      "太棒了，答案就是 0！\n",
      "=======\n",
      "第 9 關\n",
      "=======\n",
      "47 × 21 = 900\n",
      "算你答對，正確答案是 987！\n",
      "55 × 68 = 3500\n",
      "太少了，再多一點！\n",
      "55 × 68 = 3800\n",
      "算你答對，正確答案是 3740！\n",
      "=======\n",
      "第 1 關\n",
      "=======\n",
      "從 0 到 99 猜一個數字：50\n",
      "太多了，再少一點！\n",
      "從 0 到 99 猜一個數字：\n",
      "=======\n",
      "遊戲結束\n",
      "=======\n"
     ]
    }
   ],
   "source": [
    "from approx import approx\n",
    "game = approx.ApproxGame()\n",
    "game.run()"
   ]
  },
  {
   "cell_type": "code",
   "execution_count": null,
   "metadata": {
    "collapsed": false
   },
   "outputs": [
    {
     "name": "stdout",
     "output_type": "stream",
     "text": [
      "=======\n",
      "第 1 關\n",
      "=======\n"
     ]
    }
   ],
   "source": [
    "game.play_level(1, direct_print)"
   ]
  },
  {
   "cell_type": "code",
   "execution_count": 24,
   "metadata": {
    "collapsed": false
   },
   "outputs": [],
   "source": [
    "game.user = 'chia'"
   ]
  },
  {
   "cell_type": "code",
   "execution_count": 25,
   "metadata": {
    "collapsed": false
   },
   "outputs": [
    {
     "data": {
      "text/plain": [
       "OrderedDict([('Yang', 0), ('chia', 0)])"
      ]
     },
     "execution_count": 25,
     "metadata": {},
     "output_type": "execute_result"
    }
   ],
   "source": [
    "game._user2level"
   ]
  },
  {
   "cell_type": "code",
   "execution_count": null,
   "metadata": {
    "collapsed": false
   },
   "outputs": [],
   "source": []
  },
  {
   "cell_type": "code",
   "execution_count": null,
   "metadata": {
    "collapsed": false
   },
   "outputs": [],
   "source": [
    "game = ApproxGame()"
   ]
  },
  {
   "cell_type": "code",
   "execution_count": 17,
   "metadata": {
    "collapsed": false
   },
   "outputs": [
    {
     "ename": "NameError",
     "evalue": "name 'get_init_level_id' is not defined",
     "output_type": "error",
     "traceback": [
      "\u001b[0;31m---------------------------------------------------------------------------\u001b[0m",
      "\u001b[0;31mNameError\u001b[0m                                 Traceback (most recent call last)",
      "\u001b[0;32m<ipython-input-17-918aee722524>\u001b[0m in \u001b[0;36m<module>\u001b[0;34m()\u001b[0m\n\u001b[0;32m----> 1\u001b[0;31m \u001b[0mgame\u001b[0m\u001b[0;34m.\u001b[0m\u001b[0mrun\u001b[0m\u001b[0;34m(\u001b[0m\u001b[0;34m)\u001b[0m\u001b[0;34m\u001b[0m\u001b[0m\n\u001b[0m",
      "\u001b[0;32m<ipython-input-15-a9b5a0c8be6c>\u001b[0m in \u001b[0;36mrun\u001b[0;34m(self)\u001b[0m\n\u001b[1;32m    195\u001b[0m \u001b[0;34m\u001b[0m\u001b[0m\n\u001b[1;32m    196\u001b[0m     \u001b[0;32mdef\u001b[0m \u001b[0mrun\u001b[0m\u001b[0;34m(\u001b[0m\u001b[0mself\u001b[0m\u001b[0;34m)\u001b[0m\u001b[0;34m:\u001b[0m\u001b[0;34m\u001b[0m\u001b[0m\n\u001b[0;32m--> 197\u001b[0;31m         \u001b[0mlevel_id\u001b[0m \u001b[0;34m=\u001b[0m \u001b[0mget_init_level_id\u001b[0m\u001b[0;34m(\u001b[0m\u001b[0mself\u001b[0m\u001b[0;34m.\u001b[0m\u001b[0muser\u001b[0m\u001b[0;34m)\u001b[0m\u001b[0;34m\u001b[0m\u001b[0m\n\u001b[0m\u001b[1;32m    198\u001b[0m         \u001b[0;32mwhile\u001b[0m \u001b[0;32mTrue\u001b[0m\u001b[0;34m:\u001b[0m\u001b[0;34m\u001b[0m\u001b[0m\n\u001b[1;32m    199\u001b[0m             \u001b[0mplay\u001b[0m\u001b[0;34m(\u001b[0m\u001b[0mlevel_id\u001b[0m\u001b[0;34m)\u001b[0m\u001b[0;34m\u001b[0m\u001b[0m\n",
      "\u001b[0;31mNameError\u001b[0m: name 'get_init_level_id' is not defined"
     ]
    }
   ],
   "source": [
    "game.run()"
   ]
  },
  {
   "cell_type": "code",
   "execution_count": 18,
   "metadata": {
    "collapsed": false
   },
   "outputs": [],
   "source": [
    "from collections import OrderedDict"
   ]
  },
  {
   "cell_type": "code",
   "execution_count": 19,
   "metadata": {
    "collapsed": false
   },
   "outputs": [],
   "source": [
    "od = OrderedDict()"
   ]
  },
  {
   "cell_type": "code",
   "execution_count": 20,
   "metadata": {
    "collapsed": false
   },
   "outputs": [],
   "source": [
    "od.setdefault(0)"
   ]
  },
  {
   "cell_type": "code",
   "execution_count": 21,
   "metadata": {
    "collapsed": false
   },
   "outputs": [
    {
     "ename": "KeyError",
     "evalue": "'jj'",
     "output_type": "error",
     "traceback": [
      "\u001b[0;31m---------------------------------------------------------------------------\u001b[0m",
      "\u001b[0;31mKeyError\u001b[0m                                  Traceback (most recent call last)",
      "\u001b[0;32m<ipython-input-21-1f02c157d198>\u001b[0m in \u001b[0;36m<module>\u001b[0;34m()\u001b[0m\n\u001b[0;32m----> 1\u001b[0;31m \u001b[0mod\u001b[0m\u001b[0;34m[\u001b[0m\u001b[0;34m'jj'\u001b[0m\u001b[0;34m]\u001b[0m\u001b[0;34m\u001b[0m\u001b[0m\n\u001b[0m",
      "\u001b[0;31mKeyError\u001b[0m: 'jj'"
     ]
    }
   ],
   "source": [
    "od['jj']"
   ]
  },
  {
   "cell_type": "code",
   "execution_count": 14,
   "metadata": {
    "collapsed": false
   },
   "outputs": [
    {
     "ename": "AttributeError",
     "evalue": "'ApproxGame' object has no attribute '_user'",
     "output_type": "error",
     "traceback": [
      "\u001b[0;31m---------------------------------------------------------------------------\u001b[0m",
      "\u001b[0;31mAttributeError\u001b[0m                            Traceback (most recent call last)",
      "\u001b[0;32m<ipython-input-14-ce13f8f28cbd>\u001b[0m in \u001b[0;36m<module>\u001b[0;34m()\u001b[0m\n\u001b[0;32m----> 1\u001b[0;31m \u001b[0mgame\u001b[0m\u001b[0;34m.\u001b[0m\u001b[0muser\u001b[0m\u001b[0;34m\u001b[0m\u001b[0m\n\u001b[0m",
      "\u001b[0;32m<ipython-input-11-2e023fc7b619>\u001b[0m in \u001b[0;36muser\u001b[0;34m(self)\u001b[0m\n\u001b[1;32m    150\u001b[0m     \u001b[0;34m@\u001b[0m\u001b[0mproperty\u001b[0m\u001b[0;34m\u001b[0m\u001b[0m\n\u001b[1;32m    151\u001b[0m     \u001b[0;32mdef\u001b[0m \u001b[0muser\u001b[0m\u001b[0;34m(\u001b[0m\u001b[0mself\u001b[0m\u001b[0;34m)\u001b[0m\u001b[0;34m:\u001b[0m\u001b[0;34m\u001b[0m\u001b[0m\n\u001b[0;32m--> 152\u001b[0;31m         \u001b[0;32mreturn\u001b[0m \u001b[0mself\u001b[0m\u001b[0;34m.\u001b[0m\u001b[0m_user\u001b[0m\u001b[0;34m\u001b[0m\u001b[0m\n\u001b[0m\u001b[1;32m    153\u001b[0m \u001b[0;34m\u001b[0m\u001b[0m\n\u001b[1;32m    154\u001b[0m     \u001b[0;34m@\u001b[0m\u001b[0muser\u001b[0m\u001b[0;34m.\u001b[0m\u001b[0msetter\u001b[0m\u001b[0;34m\u001b[0m\u001b[0m\n",
      "\u001b[0;31mAttributeError\u001b[0m: 'ApproxGame' object has no attribute '_user'"
     ]
    }
   ],
   "source": [
    "game.user"
   ]
  },
  {
   "cell_type": "code",
   "execution_count": null,
   "metadata": {
    "collapsed": true
   },
   "outputs": [],
   "source": []
  }
 ],
 "metadata": {
  "kernelspec": {
   "display_name": "Python 3",
   "language": "python",
   "name": "python3"
  },
  "language_info": {
   "codemirror_mode": {
    "name": "ipython",
    "version": 3
   },
   "file_extension": ".py",
   "mimetype": "text/x-python",
   "name": "python",
   "nbconvert_exporter": "python",
   "pygments_lexer": "ipython3",
   "version": "3.5.0"
  }
 },
 "nbformat": 4,
 "nbformat_minor": 0
}
