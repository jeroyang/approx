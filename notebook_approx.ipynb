{
 "cells": [
  {
   "cell_type": "code",
   "execution_count": null,
   "metadata": {
    "collapsed": false
   },
   "outputs": [
    {
     "name": "stdout",
     "output_type": "stream",
     "text": [
      "====================\n",
      "第 10 關 (容許誤差：10)\n",
      "====================\n",
      "999 - 453 = 540\n",
      "算你答對，正確答案是 546！\n",
      "999 - 236 = 750\n",
      "太少了，再多一點！\n",
      "999 - 236 = 760\n",
      "算你答對，正確答案是 763！\n",
      "999 - 294 = 700\n",
      "算你答對，正確答案是 705！\n",
      "999 - 391 = 600\n",
      "算你答對，正確答案是 608！\n",
      "999 - 151 = 840\n",
      "算你答對，正確答案是 848！\n",
      "999 - 633 = 366\n",
      "太棒了，答案就是 366！\n",
      "999 - 571 = 428\n",
      "太棒了，答案就是 428！\n"
     ]
    }
   ],
   "source": [
    "from approx import approx\n",
    "game = approx.ApproxGame()\n",
    "game.run(10)\n"
   ]
  },
  {
   "cell_type": "code",
   "execution_count": null,
   "metadata": {
    "collapsed": true
   },
   "outputs": [],
   "source": []
  }
 ],
 "metadata": {
  "kernelspec": {
   "display_name": "Python 3",
   "language": "python",
   "name": "python3"
  },
  "language_info": {
   "codemirror_mode": {
    "name": "ipython",
    "version": 3
   },
   "file_extension": ".py",
   "mimetype": "text/x-python",
   "name": "python",
   "nbconvert_exporter": "python",
   "pygments_lexer": "ipython3",
   "version": "3.5.0"
  }
 },
 "nbformat": 4,
 "nbformat_minor": 0
}
